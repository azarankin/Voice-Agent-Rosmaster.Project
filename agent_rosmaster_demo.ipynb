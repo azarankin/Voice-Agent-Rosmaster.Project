{
 "cells": [
  {
   "cell_type": "code",
   "execution_count": 2,
   "id": "1101d692",
   "metadata": {},
   "outputs": [
    {
     "name": "stdout",
     "output_type": "stream",
     "text": [
      "/dev/ttyUSB0\n"
     ]
    }
   ],
   "source": [
    "!ls /dev/ttyUSB*"
   ]
  },
  {
   "cell_type": "code",
   "execution_count": 4,
   "id": "76e69432",
   "metadata": {},
   "outputs": [
    {
     "name": "stderr",
     "output_type": "stream",
     "text": [
      "libEGL warning: DRI2: failed to authenticate\n"
     ]
    },
    {
     "name": "stdout",
     "output_type": "stream",
     "text": [
      "Rosmaster Serial Opened! Baudrate=115200\n",
      "arm reset\n",
      "[DEBUG] Sending angles to robot: [90, 90, 90, 90, 90, 160]\n",
      "[DEBUG] Sending angles to robot: [90, 84.0, 84.0, 84.0, 90, 160]\n"
     ]
    }
   ],
   "source": [
    "# building the robot\n",
    "import requests\n",
    "from rosmaster_create_bot import CreateBot, sleep, EXTENSION_BOARD_ADDRESS, GAMEPAD_CONTROLLER_ID\n",
    "    # check with:   ls /dev/ttyUSB*\n",
    "    # if cant find try to reset the device, reinstall and reconnect it\n",
    "extension_board_address = \"/dev/ttyUSB0\" or EXTENSION_BOARD_ADDRESS \n",
    "bot = CreateBot(extension_board_address)\n",
    "\n",
    "move_arm = bot.arm\n",
    "move_motor = bot.motor\n"
   ]
  },
  {
   "cell_type": "code",
   "execution_count": 5,
   "id": "99adbe1d",
   "metadata": {},
   "outputs": [],
   "source": [
    "#functions\n",
    "\n",
    "def turn_around(turning_time=1.5):\n",
    "    move_motor.move_turn0(is_move=True)\n",
    "    sleep(turning_time)  #timing for turning around\n",
    "    move_motor.stop()\n",
    "\n",
    "def move_forward():\n",
    "    move_motor.move_forward(is_move=True)\n",
    "    \n",
    "\n",
    "def stop():\n",
    "    move_motor.stop()\n",
    "\n",
    "def lift_arm():\n",
    "    move_arm.arm_bent_up(70)\n",
    "def pull_down():\n",
    "    move_arm.arm_bent_down(70)\n",
    "\n",
    "def turn_off_the_lamp():\n",
    "    url = \"https://arthurcam.com/api/arduinoIOT/2\"\n",
    "    requests.get(url)\n"
   ]
  },
  {
   "cell_type": "code",
   "execution_count": 6,
   "id": "9951ef1c",
   "metadata": {},
   "outputs": [
    {
     "name": "stdout",
     "output_type": "stream",
     "text": [
      "[DEBUG] Sending angles to robot: [90, 42.0, 42.0, 42.0, 90, 160]\n",
      "[DEBUG] Sending angles to robot: [90, 84.0, 84.0, 84.0, 90, 160]\n",
      "[DEBUG] Sending angles to robot: [90, 42.0, 42.0, 42.0, 90, 160]\n",
      "[DEBUG] Sending angles to robot: [90, 84.0, 84.0, 84.0, 90, 160]\n"
     ]
    }
   ],
   "source": [
    "#function running for demo\n",
    "\n",
    "#preset\n",
    "pull_down()\n",
    "\n",
    "turn_around()\n",
    "sleep()\n",
    "move_forward()\n",
    "sleep()\n",
    "stop()\n",
    "sleep()\n",
    "lift_arm()\n",
    "sleep()\n",
    "pull_down()\n",
    "sleep()\n",
    "turn_around()\n",
    "sleep()\n",
    "#turn of the lamp\n",
    "\n",
    "#resture\n",
    "lift_arm()"
   ]
  },
  {
   "cell_type": "code",
   "execution_count": null,
   "id": "788f5a55",
   "metadata": {},
   "outputs": [],
   "source": [
    "# check the API action on https://www.arthurcam.com\n",
    "turn_off_the_lamp()"
   ]
  },
  {
   "cell_type": "code",
   "execution_count": 1,
   "id": "cf76ba68",
   "metadata": {},
   "outputs": [
    {
     "name": "stderr",
     "output_type": "stream",
     "text": [
      "libEGL warning: DRI2: failed to authenticate\n"
     ]
    },
    {
     "name": "stdout",
     "output_type": "stream",
     "text": [
      "🔁 Initializing NemoSpeech models...\n",
      "✅ CUDA is available\n",
      "📦 Loading model from cache: model_cache/QuartzNet15x5Base-En.nemo\n",
      "[NeMo I 2025-06-08 01:22:55 features:305] PADDING: 16\n"
     ]
    },
    {
     "name": "stderr",
     "output_type": "stream",
     "text": [
      "[NeMo W 2025-06-08 01:22:55 nemo_logging:361] /usr/lib/python3/dist-packages/paramiko/pkey.py:82: CryptographyDeprecationWarning: TripleDES has been moved to cryptography.hazmat.decrepit.ciphers.algorithms.TripleDES and will be removed from cryptography.hazmat.primitives.ciphers.algorithms in 48.0.0.\n",
      "      \"cipher\": algorithms.TripleDES,\n",
      "    \n",
      "[NeMo W 2025-06-08 01:22:55 nemo_logging:361] /usr/lib/python3/dist-packages/paramiko/transport.py:237: CryptographyDeprecationWarning: Blowfish has been moved to cryptography.hazmat.decrepit.ciphers.algorithms.Blowfish and will be removed from cryptography.hazmat.primitives.ciphers.algorithms in 45.0.0.\n",
      "      \"class\": algorithms.Blowfish,\n",
      "    \n",
      "[NeMo W 2025-06-08 01:22:55 nemo_logging:361] /usr/lib/python3/dist-packages/paramiko/transport.py:261: CryptographyDeprecationWarning: TripleDES has been moved to cryptography.hazmat.decrepit.ciphers.algorithms.TripleDES and will be removed from cryptography.hazmat.primitives.ciphers.algorithms in 48.0.0.\n",
      "      \"class\": algorithms.TripleDES,\n",
      "    \n"
     ]
    },
    {
     "name": "stdout",
     "output_type": "stream",
     "text": [
      "[NeMo I 2025-06-08 01:22:56 save_restore_connector:275] Model EncDecCTCModel was successfully restored from /home/arthur/Desktop/Nemo/model_cache/QuartzNet15x5Base-En.nemo.\n",
      "✅ CUDA is available\n",
      "📦 Loading model from cache: model_cache/tts_en_tacotron2.nemo\n"
     ]
    },
    {
     "name": "stderr",
     "output_type": "stream",
     "text": [
      "[NeMo E 2025-06-08 01:22:56 base:45] `nemo_text_processing` not installed, see https://github.com/NVIDIA/NeMo-text-processing for more details.\n",
      "[NeMo E 2025-06-08 01:22:56 base:48] The normalizer will be disabled.\n",
      "[NeMo W 2025-06-08 01:22:58 en_us_arpabet:66] apply_to_oov_word=None, This means that some of words will remain unchanged if they are not handled by any of the rules in self.parse_one_word(). This may be intended if phonemes and chars are both valid inputs, otherwise, you may see unexpected deletions in your input.\n",
      "[NeMo W 2025-06-08 01:22:58 modelPT:180] If you intend to do training or fine-tuning, please call the ModelPT.setup_training_data() method and provide a valid configuration file to setup the train data loader.\n",
      "    Train config : \n",
      "    dataset:\n",
      "      _target_: nemo.collections.tts.torch.data.TTSDataset\n",
      "      manifest_filepath: /raid/datasets/tts_data/train_manifest.json\n",
      "      sample_rate: 22050\n",
      "      sup_data_path: null\n",
      "      sup_data_types: null\n",
      "      n_fft: 1024\n",
      "      win_length: 1024\n",
      "      hop_length: 256\n",
      "      window: hann\n",
      "      n_mels: 80\n",
      "      lowfreq: 0\n",
      "      highfreq: 8000\n",
      "      max_duration: null\n",
      "      min_duration: 0.1\n",
      "      ignore_file: null\n",
      "      trim: false\n",
      "      pitch_fmin: 65.40639132514966\n",
      "      pitch_fmax: 2093.004522404789\n",
      "    dataloader_params:\n",
      "      drop_last: false\n",
      "      shuffle: true\n",
      "      batch_size: 48\n",
      "      num_workers: 4\n",
      "      pin_memory: false\n",
      "    \n",
      "[NeMo W 2025-06-08 01:22:58 modelPT:187] If you intend to do validation, please call the ModelPT.setup_validation_data() or ModelPT.setup_multiple_validation_data() method and provide a valid configuration file to setup the validation data loader(s). \n",
      "    Validation config : \n",
      "    dataset:\n",
      "      _target_: nemo.collections.tts.torch.data.TTSDataset\n",
      "      manifest_filepath: /raid/datasets/tts_data/train_manifest.json\n",
      "      sample_rate: 22050\n",
      "      sup_data_path: null\n",
      "      sup_data_types: null\n",
      "      n_fft: 1024\n",
      "      win_length: 1024\n",
      "      hop_length: 256\n",
      "      window: hann\n",
      "      n_mels: 80\n",
      "      lowfreq: 0\n",
      "      highfreq: 8000\n",
      "      max_duration: null\n",
      "      min_duration: 0.1\n",
      "      ignore_file: null\n",
      "      trim: false\n",
      "      pitch_fmin: 65.40639132514966\n",
      "      pitch_fmax: 2093.004522404789\n",
      "    dataloader_params:\n",
      "      drop_last: false\n",
      "      shuffle: false\n",
      "      batch_size: 24\n",
      "      num_workers: 8\n",
      "      pin_memory: false\n",
      "    \n"
     ]
    },
    {
     "name": "stdout",
     "output_type": "stream",
     "text": [
      "[NeMo I 2025-06-08 01:22:58 features:305] PADDING: 16\n",
      "[NeMo I 2025-06-08 01:22:58 features:314] STFT using exact pad\n",
      "[NeMo I 2025-06-08 01:22:59 save_restore_connector:275] Model Tacotron2Model was successfully restored from /home/arthur/Desktop/Nemo/model_cache/tts_en_tacotron2.nemo.\n",
      "✅ CUDA is available\n",
      "📦 Loading model from cache: model_cache/tts_en_hifigan.nemo\n"
     ]
    },
    {
     "name": "stderr",
     "output_type": "stream",
     "text": [
      "[NeMo W 2025-06-08 01:23:00 modelPT:180] If you intend to do training or fine-tuning, please call the ModelPT.setup_training_data() method and provide a valid configuration file to setup the train data loader.\n",
      "    Train config : \n",
      "    dataset:\n",
      "      _target_: nemo.collections.tts.data.datalayers.MelAudioDataset\n",
      "      manifest_filepath: /home/fkreuk/data/train_finetune.txt\n",
      "      min_duration: 0.75\n",
      "      n_segments: 8192\n",
      "    dataloader_params:\n",
      "      drop_last: false\n",
      "      shuffle: true\n",
      "      batch_size: 64\n",
      "      num_workers: 4\n",
      "    \n",
      "[NeMo W 2025-06-08 01:23:00 modelPT:187] If you intend to do validation, please call the ModelPT.setup_validation_data() or ModelPT.setup_multiple_validation_data() method and provide a valid configuration file to setup the validation data loader(s). \n",
      "    Validation config : \n",
      "    dataset:\n",
      "      _target_: nemo.collections.tts.data.datalayers.MelAudioDataset\n",
      "      manifest_filepath: /home/fkreuk/data/val_finetune.txt\n",
      "      min_duration: 3\n",
      "      n_segments: 66150\n",
      "    dataloader_params:\n",
      "      drop_last: false\n",
      "      shuffle: false\n",
      "      batch_size: 5\n",
      "      num_workers: 4\n",
      "    \n",
      "[NeMo W 2025-06-08 01:23:00 features:282] Using torch_stft is deprecated and has been removed. The values have been forcibly set to False for FilterbankFeatures and AudioToMelSpectrogramPreprocessor. Please set exact_pad to True as needed.\n"
     ]
    },
    {
     "name": "stdout",
     "output_type": "stream",
     "text": [
      "[NeMo I 2025-06-08 01:23:00 features:305] PADDING: 0\n"
     ]
    },
    {
     "name": "stderr",
     "output_type": "stream",
     "text": [
      "[NeMo W 2025-06-08 01:23:00 features:282] Using torch_stft is deprecated and has been removed. The values have been forcibly set to False for FilterbankFeatures and AudioToMelSpectrogramPreprocessor. Please set exact_pad to True as needed.\n"
     ]
    },
    {
     "name": "stdout",
     "output_type": "stream",
     "text": [
      "[NeMo I 2025-06-08 01:23:00 features:305] PADDING: 0\n",
      "[NeMo I 2025-06-08 01:23:02 save_restore_connector:275] Model HifiGanModel was successfully restored from /home/arthur/Desktop/Nemo/model_cache/tts_en_hifigan.nemo.\n",
      "✅ All models loaded\n",
      "🎧 Total input devices: 24 ['[4] NVIDIA Jetson Orin NX APE: - (hw:1,0)', '[5] NVIDIA Jetson Orin NX APE: - (hw:1,1)', '[6] NVIDIA Jetson Orin NX APE: - (hw:1,2)', '[7] NVIDIA Jetson Orin NX APE: - (hw:1,3)', '[8] NVIDIA Jetson Orin NX APE: - (hw:1,4)', '[9] NVIDIA Jetson Orin NX APE: - (hw:1,5)', '[10] NVIDIA Jetson Orin NX APE: - (hw:1,6)', '[11] NVIDIA Jetson Orin NX APE: - (hw:1,7)', '[12] NVIDIA Jetson Orin NX APE: - (hw:1,8)', '[13] NVIDIA Jetson Orin NX APE: - (hw:1,9)', '[14] NVIDIA Jetson Orin NX APE: - (hw:1,10)', '[15] NVIDIA Jetson Orin NX APE: - (hw:1,11)', '[16] NVIDIA Jetson Orin NX APE: - (hw:1,12)', '[17] NVIDIA Jetson Orin NX APE: - (hw:1,13)', '[18] NVIDIA Jetson Orin NX APE: - (hw:1,14)', '[19] NVIDIA Jetson Orin NX APE: - (hw:1,15)', '[20] NVIDIA Jetson Orin NX APE: - (hw:1,16)', '[21] NVIDIA Jetson Orin NX APE: - (hw:1,17)', '[22] NVIDIA Jetson Orin NX APE: - (hw:1,18)', '[23] NVIDIA Jetson Orin NX APE: - (hw:1,19)', '[24] Jabra EVOLVE 20 MS: USB Audio (hw:2,0)', '[25] Umik-1  Gain: 18dB: USB Audio (hw:3,0)', '[27] pulse', '[28] default'], selected = 0\n",
      "Rosmaster Serial Opened! Baudrate=115200\n",
      "arm reset\n",
      "[DEBUG] Sending angles to robot: [90, 90, 90, 90, 90, 160]\n",
      "[DEBUG] Sending angles to robot: [90, 84.0, 84.0, 84.0, 90, 160]\n"
     ]
    }
   ],
   "source": [
    "#building the model\n",
    "from nemo_speech import NemoSpeech\n",
    "nemo_model = NemoSpeech()\n",
    "#load the recorder\n",
    "from recorder import VoiceRecorder\n",
    "record = VoiceRecorder()\n",
    "#load phrase to function\n",
    "from phrase_to_function import PhraseToFunction\n",
    "\n",
    "# api calling\n",
    "import requests\n",
    "\n",
    "#building the robot\n",
    "from rosmaster_create_bot import CreateBot, sleep, EXTENSION_BOARD_ADDRESS, GAMEPAD_CONTROLLER_ID\n",
    "    # check with:   ls /dev/ttyUSB*\n",
    "    # if cant find try to reset the device, reinstall and reconnect it\n",
    "extension_board_address = \"/dev/ttyUSB0\" or EXTENSION_BOARD_ADDRESS \n",
    "bot = CreateBot(extension_board_address)\n",
    "\n",
    "move_arm = bot.arm\n",
    "move_motor = bot.motor"
   ]
  },
  {
   "cell_type": "code",
   "execution_count": null,
   "id": "d8c5f46d",
   "metadata": {},
   "outputs": [
    {
     "name": "stderr",
     "output_type": "stream",
     "text": [
      "[NeMo W 2025-06-08 01:23:02 tacotron2:144] parse() is meant to be called in eval mode.\n",
      "[NeMo W 2025-06-08 01:23:02 tts_tokenizers:663] Text: [​ AA1RM DAW1N​ ] contains unknown char/phoneme: [​].Original text: [​ Arm down​ ]. Symbol will be skipped.\n",
      "[NeMo W 2025-06-08 01:23:02 tts_tokenizers:663] Text: [​ AA1RM DAW1N​ ] contains unknown char/phoneme: [​].Original text: [​ Arm down​ ]. Symbol will be skipped.\n"
     ]
    },
    {
     "name": "stdout",
     "output_type": "stream",
     "text": [
      "🎧 Total input devices: 24 ['[4] NVIDIA Jetson Orin NX APE: - (hw:1,0)', '[5] NVIDIA Jetson Orin NX APE: - (hw:1,1)', '[6] NVIDIA Jetson Orin NX APE: - (hw:1,2)', '[7] NVIDIA Jetson Orin NX APE: - (hw:1,3)', '[8] NVIDIA Jetson Orin NX APE: - (hw:1,4)', '[9] NVIDIA Jetson Orin NX APE: - (hw:1,5)', '[10] NVIDIA Jetson Orin NX APE: - (hw:1,6)', '[11] NVIDIA Jetson Orin NX APE: - (hw:1,7)', '[12] NVIDIA Jetson Orin NX APE: - (hw:1,8)', '[13] NVIDIA Jetson Orin NX APE: - (hw:1,9)', '[14] NVIDIA Jetson Orin NX APE: - (hw:1,10)', '[15] NVIDIA Jetson Orin NX APE: - (hw:1,11)', '[16] NVIDIA Jetson Orin NX APE: - (hw:1,12)', '[17] NVIDIA Jetson Orin NX APE: - (hw:1,13)', '[18] NVIDIA Jetson Orin NX APE: - (hw:1,14)', '[19] NVIDIA Jetson Orin NX APE: - (hw:1,15)', '[20] NVIDIA Jetson Orin NX APE: - (hw:1,16)', '[21] NVIDIA Jetson Orin NX APE: - (hw:1,17)', '[22] NVIDIA Jetson Orin NX APE: - (hw:1,18)', '[23] NVIDIA Jetson Orin NX APE: - (hw:1,19)', '[24] Jabra EVOLVE 20 MS: USB Audio (hw:2,0)', '[25] Umik-1  Gain: 18dB: USB Audio (hw:3,0)', '[27] pulse', '[28] default'], selected = 0\n"
     ]
    },
    {
     "name": "stderr",
     "output_type": "stream",
     "text": [
      "ALSA lib pcm.c:8568:(snd_pcm_recover) underrun occurred\n",
      "ALSA lib pcm.c:8568:(snd_pcm_recover) underrun occurred\n",
      "ALSA lib pcm.c:8568:(snd_pcm_recover) underrun occurred\n",
      "ALSA lib pcm.c:8568:(snd_pcm_recover) underrun occurred\n",
      "ALSA lib pcm.c:8568:(snd_pcm_recover) underrun occurred\n",
      "ALSA lib pcm.c:8568:(snd_pcm_recover) underrun occurred\n",
      "ALSA lib pcm.c:8568:(snd_pcm_recover) underrun occurred\n",
      "ALSA lib pcm.c:8568:(snd_pcm_recover) underrun occurred\n",
      "ALSA lib pcm.c:8568:(snd_pcm_recover) underrun occurred\n",
      "ALSA lib pcm.c:8568:(snd_pcm_recover) underrun occurred\n",
      "ALSA lib pcm.c:8568:(snd_pcm_recover) underrun occurred\n",
      "ALSA lib pcm.c:8568:(snd_pcm_recover) underrun occurred\n",
      "ALSA lib pcm.c:8568:(snd_pcm_recover) underrun occurred\n",
      "ALSA lib pcm.c:8568:(snd_pcm_recover) underrun occurred\n",
      "[NeMo W 2025-06-08 01:23:04 tts_tokenizers:663] Text: [​ rosmaster is WEY1TIH0NG for the KAH0MAE1ND​ ] contains unknown char/phoneme: [​].Original text: [​ Rosmaster is waiting for the command​ ]. Symbol will be skipped.\n",
      "[NeMo W 2025-06-08 01:23:04 tts_tokenizers:663] Text: [​ rosmaster is WEY1TIH0NG for the KAH0MAE1ND​ ] contains unknown char/phoneme: [​].Original text: [​ Rosmaster is waiting for the command​ ]. Symbol will be skipped.\n"
     ]
    },
    {
     "name": "stdout",
     "output_type": "stream",
     "text": [
      "[DEBUG] Sending angles to robot: [90, 42.0, 42.0, 42.0, 90, 160]\n"
     ]
    },
    {
     "name": "stderr",
     "output_type": "stream",
     "text": [
      "ALSA lib pcm.c:8568:(snd_pcm_recover) underrun occurred\n",
      "ALSA lib pcm.c:8568:(snd_pcm_recover) underrun occurred\n",
      "ALSA lib pcm.c:8568:(snd_pcm_recover) underrun occurred\n",
      "ALSA lib pcm.c:8568:(snd_pcm_recover) underrun occurred\n"
     ]
    },
    {
     "name": "stdout",
     "output_type": "stream",
     "text": [
      "🎤 Using input device: default\n",
      "🎙 Please speak into the microphone...\n"
     ]
    },
    {
     "name": "stderr",
     "output_type": "stream",
     "text": [
      "Transcribing: 100%|██████████| 1/1 [00:02<00:00,  2.38s/it]\n",
      "[NeMo W 2025-06-08 01:23:14 tts_tokenizers:663] Text: [​ HHAY1 AA1RTHER0​ ] contains unknown char/phoneme: [​].Original text: [​ Hi Arthur​ ]. Symbol will be skipped.\n",
      "[NeMo W 2025-06-08 01:23:14 tts_tokenizers:663] Text: [​ HHAY1 AA1RTHER0​ ] contains unknown char/phoneme: [​].Original text: [​ Hi Arthur​ ]. Symbol will be skipped.\n"
     ]
    },
    {
     "name": "stdout",
     "output_type": "stream",
     "text": [
      "🗣 Command: 'say hi'\n",
      "[Adapt] ✅ Matched intent: 'say hi' (conf=0.83)\n",
      "🎤 Using input device: default\n",
      "🎙 Please speak into the microphone...\n"
     ]
    },
    {
     "name": "stderr",
     "output_type": "stream",
     "text": [
      "Transcribing: 100%|██████████| 1/1 [00:00<00:00,  7.58it/s]\n",
      "[NeMo W 2025-06-08 01:23:23 tts_tokenizers:663] Text: [​ YEH1S MUW1VIH0NG FAO1RWER0D​ ] contains unknown char/phoneme: [​].Original text: [​ Yes moving forward​ ]. Symbol will be skipped.\n",
      "[NeMo W 2025-06-08 01:23:23 tts_tokenizers:663] Text: [​ YEH1S MUW1VIH0NG FAO1RWER0D​ ] contains unknown char/phoneme: [​].Original text: [​ Yes moving forward​ ]. Symbol will be skipped.\n"
     ]
    },
    {
     "name": "stdout",
     "output_type": "stream",
     "text": [
      "🗣 Command: 'move forward'\n",
      "[Adapt] ✅ Matched intent: 'move forward' (conf=0.92)\n"
     ]
    },
    {
     "name": "stderr",
     "output_type": "stream",
     "text": [
      "ALSA lib pcm.c:8568:(snd_pcm_recover) underrun occurred\n",
      "ALSA lib pcm.c:8568:(snd_pcm_recover) underrun occurred\n",
      "ALSA lib pcm.c:8568:(snd_pcm_recover) underrun occurred\n",
      "ALSA lib pcm.c:8568:(snd_pcm_recover) underrun occurred\n",
      "ALSA lib pcm.c:8568:(snd_pcm_recover) underrun occurred\n",
      "ALSA lib pcm.c:8568:(snd_pcm_recover) underrun occurred\n"
     ]
    },
    {
     "name": "stdout",
     "output_type": "stream",
     "text": [
      "🎤 Using input device: default\n",
      "🎙 Please speak into the microphone...\n"
     ]
    },
    {
     "name": "stderr",
     "output_type": "stream",
     "text": [
      "Transcribing: 100%|██████████| 1/1 [00:00<00:00,  7.45it/s]\n"
     ]
    },
    {
     "name": "stdout",
     "output_type": "stream",
     "text": [
      "🗣 Command: 'stop'\n",
      "[Adapt] ✅ Matched intent: 'stop' (conf=1.00)\n",
      "🎤 Using input device: default\n",
      "🎙 Please speak into the microphone...\n"
     ]
    },
    {
     "name": "stderr",
     "output_type": "stream",
     "text": [
      "Transcribing: 100%|██████████| 1/1 [00:00<00:00,  6.59it/s]\n",
      "[NeMo W 2025-06-08 01:23:33 tts_tokenizers:663] Text: [​ AA1RM AH1P​ ] contains unknown char/phoneme: [​].Original text: [​ Arm up​ ]. Symbol will be skipped.\n",
      "[NeMo W 2025-06-08 01:23:33 tts_tokenizers:663] Text: [​ AA1RM AH1P​ ] contains unknown char/phoneme: [​].Original text: [​ Arm up​ ]. Symbol will be skipped.\n"
     ]
    },
    {
     "name": "stdout",
     "output_type": "stream",
     "text": [
      "🗣 Command: 'lift tar'\n",
      "[Adapt] ❌ No confident match for: 'lift tar' → trying fuzzy matching...\n",
      "[Fuzzy] ✅ Matched 'lift arm' (score=88)\n"
     ]
    },
    {
     "name": "stderr",
     "output_type": "stream",
     "text": [
      "ALSA lib pcm.c:8568:(snd_pcm_recover) underrun occurred\n",
      "ALSA lib pcm.c:8568:(snd_pcm_recover) underrun occurred\n"
     ]
    },
    {
     "name": "stdout",
     "output_type": "stream",
     "text": [
      "[DEBUG] Sending angles to robot: [90, 84.0, 84.0, 84.0, 90, 160]\n",
      "🎤 Using input device: default\n",
      "🎙 Please speak into the microphone...\n"
     ]
    },
    {
     "name": "stderr",
     "output_type": "stream",
     "text": [
      "Transcribing: 100%|██████████| 1/1 [00:00<00:00,  7.94it/s]\n",
      "[NeMo W 2025-06-08 01:23:40 tts_tokenizers:663] Text: [​ AA1RM DAW1N​ ] contains unknown char/phoneme: [​].Original text: [​ Arm down​ ]. Symbol will be skipped.\n",
      "[NeMo W 2025-06-08 01:23:40 tts_tokenizers:663] Text: [​ AA1RM DAW1N​ ] contains unknown char/phoneme: [​].Original text: [​ Arm down​ ]. Symbol will be skipped.\n"
     ]
    },
    {
     "name": "stdout",
     "output_type": "stream",
     "text": [
      "🗣 Command: 'pull down'\n",
      "[Adapt] ✅ Matched intent: 'pull down' (conf=0.89)\n"
     ]
    },
    {
     "name": "stderr",
     "output_type": "stream",
     "text": [
      "ALSA lib pcm.c:8568:(snd_pcm_recover) underrun occurred\n",
      "ALSA lib pcm.c:8568:(snd_pcm_recover) underrun occurred\n",
      "ALSA lib pcm.c:8568:(snd_pcm_recover) underrun occurred\n",
      "ALSA lib pcm.c:8568:(snd_pcm_recover) underrun occurred\n",
      "ALSA lib pcm.c:8568:(snd_pcm_recover) underrun occurred\n",
      "ALSA lib pcm.c:8568:(snd_pcm_recover) underrun occurred\n",
      "ALSA lib pcm.c:8568:(snd_pcm_recover) underrun occurred\n",
      "ALSA lib pcm.c:8568:(snd_pcm_recover) underrun occurred\n"
     ]
    },
    {
     "name": "stdout",
     "output_type": "stream",
     "text": [
      "[DEBUG] Sending angles to robot: [90, 42.0, 42.0, 42.0, 90, 160]\n",
      "🎤 Using input device: default\n",
      "🎙 Please speak into the microphone...\n"
     ]
    },
    {
     "name": "stderr",
     "output_type": "stream",
     "text": [
      "Transcribing: 100%|██████████| 1/1 [00:00<00:00,  8.36it/s]\n"
     ]
    },
    {
     "name": "stdout",
     "output_type": "stream",
     "text": [
      "🗣 Command: 'torn off delight'\n",
      "[Adapt] ❌ No confident match for: 'torn off delight' → trying fuzzy matching...\n",
      "[Fuzzy] ❌ No match found (score=61)\n",
      "🎤 Using input device: default\n",
      "🎙 Please speak into the microphone...\n"
     ]
    },
    {
     "name": "stderr",
     "output_type": "stream",
     "text": [
      "Transcribing: 100%|██████████| 1/1 [00:00<00:00,  7.12it/s]\n"
     ]
    },
    {
     "name": "stdout",
     "output_type": "stream",
     "text": [
      "🗣 Command: 'tornn off delight'\n",
      "[Adapt] ❌ No confident match for: 'tornn off delight' → trying fuzzy matching...\n",
      "[Fuzzy] ❌ No match found (score=60)\n",
      "🎤 Using input device: default\n",
      "🎙 Please speak into the microphone...\n"
     ]
    },
    {
     "name": "stderr",
     "output_type": "stream",
     "text": [
      "Transcribing: 100%|██████████| 1/1 [00:00<00:00,  7.57it/s]\n"
     ]
    },
    {
     "name": "stdout",
     "output_type": "stream",
     "text": [
      "🗣 Command: 'turn off dhelight'\n",
      "[Adapt] ❌ No confident match for: 'turn off dhelight' → trying fuzzy matching...\n",
      "[Fuzzy] ✅ Matched 'turn around' (score=86)\n",
      "🎤 Using input device: default\n",
      "🎙 Please speak into the microphone...\n",
      "🎤 Using input device: default\n",
      "🎙 Please speak into the microphone...\n"
     ]
    },
    {
     "name": "stderr",
     "output_type": "stream",
     "text": [
      "Transcribing: 100%|██████████| 1/1 [00:00<00:00,  7.15it/s]\n"
     ]
    },
    {
     "name": "stdout",
     "output_type": "stream",
     "text": [
      "🗣 Command: 'don on the lamp'\n",
      "[Adapt] ❌ No confident match for: 'don on the lamp' → trying fuzzy matching...\n",
      "[Fuzzy] ❌ No match found (score=75)\n",
      "🎤 Using input device: default\n",
      "🎙 Please speak into the microphone...\n"
     ]
    },
    {
     "name": "stderr",
     "output_type": "stream",
     "text": [
      "Transcribing: 100%|██████████| 1/1 [00:00<00:00,  7.38it/s]\n"
     ]
    },
    {
     "name": "stdout",
     "output_type": "stream",
     "text": [
      "🗣 Command: 'tornn off the lamp'\n",
      "[Adapt] ❌ No confident match for: 'tornn off the lamp' → trying fuzzy matching...\n",
      "[Fuzzy] ✅ Matched 'turn off the lamp' (score=91)\n",
      "🎤 Using input device: default\n",
      "🎙 Please speak into the microphone...\n"
     ]
    },
    {
     "name": "stderr",
     "output_type": "stream",
     "text": [
      "Transcribing: 100%|██████████| 1/1 [00:00<00:00,  6.60it/s]\n"
     ]
    },
    {
     "name": "stdout",
     "output_type": "stream",
     "text": [
      "🗣 Command: 'toron of de lamb'\n",
      "[Adapt] ❌ No confident match for: 'toron of de lamb' → trying fuzzy matching...\n",
      "[Fuzzy] ❌ No match found (score=73)\n",
      "🎤 Using input device: default\n",
      "🎙 Please speak into the microphone...\n"
     ]
    },
    {
     "name": "stderr",
     "output_type": "stream",
     "text": [
      "Transcribing: 100%|██████████| 1/1 [00:00<00:00,  7.33it/s]\n"
     ]
    },
    {
     "name": "stdout",
     "output_type": "stream",
     "text": [
      "🗣 Command: 'turnn of the lamp'\n",
      "[Adapt] ❌ No confident match for: 'turnn of the lamp' → trying fuzzy matching...\n",
      "[Fuzzy] ✅ Matched 'turn off the lamp' (score=94)\n",
      "🎤 Using input device: default\n",
      "🎙 Please speak into the microphone...\n",
      "🎤 Using input device: default\n",
      "🎙 Please speak into the microphone...\n",
      "🎤 Using input device: default\n",
      "🎙 Please speak into the microphone...\n",
      "🎤 Using input device: default\n",
      "🎙 Please speak into the microphone...\n"
     ]
    },
    {
     "name": "stderr",
     "output_type": "stream",
     "text": [
      "Transcribing: 100%|██████████| 1/1 [00:00<00:00,  5.89it/s]\n"
     ]
    },
    {
     "name": "stdout",
     "output_type": "stream",
     "text": [
      "🗣 Command: 'huck'\n",
      "[Adapt] ❌ No confident match for: 'huck' → trying fuzzy matching...\n",
      "[Fuzzy] ❌ No match found (score=34)\n",
      "🎤 Using input device: default\n",
      "🎙 Please speak into the microphone...\n"
     ]
    }
   ],
   "source": [
    "# appling Rosmater commands for the demo\n",
    "# agent waiting loop for command with exiting\n",
    "from agent import Agent\n",
    "from recorder import VoiceRecorder\n",
    "from phrase_to_function import PhraseToFunction\n",
    "import time\n",
    "\n",
    "#speach command\n",
    "def say(text: str):\n",
    "    nemo_model.text_to_speech(text, play=True)\n",
    "\n",
    "# Microphone, Input callback: returns transcribed text\n",
    "recorder = VoiceRecorder()\n",
    "\n",
    "def asr_input(): #resouces callback\n",
    "    recorder.record()\n",
    "    audio = recorder.get_audio()\n",
    "    if len(audio) == 0:\n",
    "        return \"\"\n",
    "    return nemo_model.transcribe_from_audio(audio).text.strip().lower()\n",
    "\n",
    "\n",
    "#functions\n",
    "def turn_around(turning_time=1.5):\n",
    "    move_motor.move_turn0(is_move=True)\n",
    "    sleep(turning_time)  #timing for turning around\n",
    "    move_motor.stop()\n",
    "\n",
    "def move_forward():\n",
    "    say(\"Yes moving forward\")\n",
    "    move_motor.move_forward(is_move=True)\n",
    "    \n",
    "def stop():\n",
    "    move_motor.stop()\n",
    "\n",
    "def lift_arm():\n",
    "    say(\"Arm up\")\n",
    "    move_arm.arm_bent_up(70)\n",
    "\n",
    "\n",
    "def pull_down():\n",
    "    say(\"Arm down\")\n",
    "    move_arm.arm_bent_down(70)\n",
    "\n",
    "def turn_off_the_lamp():\n",
    "    url = \"https://arthurcam.com/api/arduinoIOT/2\"\n",
    "    requests.get(url)\n",
    "\n",
    "\n",
    "EXIT_COMMANDS = {\"exit\", \"quit\", \"terminate\"}\n",
    "\n",
    "rosmaster_commands = {\n",
    "    \"say hi\": lambda: say(\"Hi Rosmaster\"),\n",
    "    \"turn around\": turn_around,\n",
    "    \"move forward\": move_forward,\n",
    "    \"stop\": stop,\n",
    "    \"lift arm\": lift_arm,\n",
    "    \"pull down\": pull_down,\n",
    "    \"arm down\": pull_down,\n",
    "    \"turn off the lamp\": turn_off_the_lamp,\n",
    "    \"make beep\": lambda: bot.beep()\n",
    "}\n",
    "\n",
    "\n",
    "# Logic callback for the agent\n",
    "def agent_logic(commands, input_callback):\n",
    "    recognizer = PhraseToFunction(commands)\n",
    "    say(\"Rosmaster is waiting for the command\")\n",
    "    while True:\n",
    "        try:\n",
    "            command = input_callback()\n",
    "            if not command:\n",
    "                bot.beep()\n",
    "                continue\n",
    "            print(f\"🗣 Command: '{command}'\")\n",
    "\n",
    "            if command in EXIT_COMMANDS:\n",
    "                say(\"Exiting. Goodbye.\")\n",
    "                bot.beep()\n",
    "                break\n",
    "\n",
    "            recognized, result = recognizer.execute(command)\n",
    "            if not recognized:\n",
    "                bot.beep()\n",
    "            if result:\n",
    "                pass\n",
    "                \n",
    "        except Exception as e:\n",
    "            bot.beep()\n",
    "            print(f\"❌ Error: {e}\")\n",
    "            say(\"Error occurred. Try again.\")\n",
    "            bot.beep()\n",
    "            time.sleep(1)\n",
    "\n",
    "\n",
    "if __name__ == \"__main__\":\n",
    "    stop()\n",
    "    pull_down()#preset command\n",
    "    main_agent = Agent(\"MainAgent\", agent_logic, asr_input, rosmaster_commands)\n",
    "    main_agent.run()\n",
    "    lift_arm()#reset command\n",
    "    bot.terminate()\n"
   ]
  },
  {
   "cell_type": "code",
   "execution_count": 1,
   "id": "1cddf700",
   "metadata": {},
   "outputs": [
    {
     "ename": "NameError",
     "evalue": "name 'stop' is not defined",
     "output_type": "error",
     "traceback": [
      "\u001b[0;31m---------------------------------------------------------------------------\u001b[0m",
      "\u001b[0;31mNameError\u001b[0m                                 Traceback (most recent call last)",
      "Cell \u001b[0;32mIn[1], line 1\u001b[0m\n\u001b[0;32m----> 1\u001b[0m \u001b[43mstop\u001b[49m()                               \n",
      "\u001b[0;31mNameError\u001b[0m: name 'stop' is not defined"
     ]
    }
   ],
   "source": [
    "stop()                               "
   ]
  },
  {
   "cell_type": "code",
   "execution_count": null,
   "id": "4ae22031",
   "metadata": {},
   "outputs": [],
   "source": []
  }
 ],
 "metadata": {
  "kernelspec": {
   "display_name": "Python 3",
   "language": "python",
   "name": "python3"
  },
  "language_info": {
   "codemirror_mode": {
    "name": "ipython",
    "version": 3
   },
   "file_extension": ".py",
   "mimetype": "text/x-python",
   "name": "python",
   "nbconvert_exporter": "python",
   "pygments_lexer": "ipython3",
   "version": "3.10.12"
  }
 },
 "nbformat": 4,
 "nbformat_minor": 5
}
