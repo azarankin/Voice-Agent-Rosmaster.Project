{
 "cells": [
  {
   "cell_type": "code",
   "execution_count": 20,
   "id": "ebed515e",
   "metadata": {},
   "outputs": [
    {
     "name": "stdout",
     "output_type": "stream",
     "text": [
      "Rosmaster Serial Opened! Baudrate=115200\n",
      "arm reset\n",
      "[DEBUG] Sending angles to robot: [90, 90, 90, 90, 90, 160]\n",
      "arm reset\n",
      "[DEBUG] Sending angles to robot: [90, 90, 90, 90, 90, 160]\n",
      "serial Close!\n",
      "[DEBUG] Sending angles to robot: [90, 84.0, 84.0, 84.0, 90, 160]\n"
     ]
    }
   ],
   "source": [
    "from conf import Rosmaster, sleep, settings\n",
    "from classes.move_motor import MoveMotors\n",
    "from classes.move_arm import MoveArm\n",
    "from classes.gamepad import Gamepad\n",
    "import requests\n",
    "import time\n",
    "\n",
    "#TODO: set the CH3341SER first\n",
    "#TODO: check which usb device is available as Rosmater\n",
    "#TODO: check the option to set sleep for extreme movements\n",
    "#TODO: memoization\n",
    "\n",
    "CONTROLLER_ID = settings[\"controller_id\"] # ls /dev/input/js*\n",
    "EXTENSION_BOARD_ADDRESS = settings[\"extension_board_address\"] # ls /dev/ttyUSB*\n",
    "\n",
    "# Check and run the extension board\n",
    "bot = Rosmaster(com=EXTENSION_BOARD_ADDRESS)\n",
    "#bot.create_receive_threading()\n",
    "\n",
    "move_arm = MoveArm(bot)\n",
    "move_motor = MoveMotors(bot)\n",
    "move_arm.arm_bent_down(10)\n"
   ]
  },
  {
   "cell_type": "code",
   "execution_count": null,
   "id": "2cea8848",
   "metadata": {},
   "outputs": [
    {
     "name": "stdout",
     "output_type": "stream",
     "text": [
      "[DEBUG] Sending angles to robot: [90, 48.0, 48.0, 48.0, 90, 160]\n",
      "[DEBUG] Sending angles to robot: [90, 90.0, 90.0, 90.0, 90, 160]\n"
     ]
    }
   ],
   "source": []
  },
  {
   "cell_type": "code",
   "execution_count": 23,
   "id": "807a6be6",
   "metadata": {},
   "outputs": [],
   "source": [
    "\n",
    "def turn_around(turning_time=1.5):\n",
    "    move_motor.move_turn0(is_move=True)\n",
    "    sleep(turning_time)  #timing for turning around\n",
    "    move_motor.stop()\n",
    "\n",
    "def move_forward():\n",
    "    move_motor.move_forward(is_move=True)\n",
    "    \n",
    "\n",
    "def stop():\n",
    "    move_motor.stop()\n",
    "\n",
    "def lift_arm():\n",
    "    move_arm.arm_bent_up(70)\n",
    "def pull_down():\n",
    "    move_arm.arm_bent_down(70)\n",
    "\n",
    "def turn_off_the_lamp():\n",
    "    url = \"https://arthurcam.com/api/arduinoIOT/2\"\n",
    "    requests.get(url)\n",
    "\n",
    "\n",
    "\n"
   ]
  },
  {
   "cell_type": "code",
   "execution_count": 24,
   "id": "4774128e",
   "metadata": {},
   "outputs": [
    {
     "name": "stdout",
     "output_type": "stream",
     "text": [
      "[DEBUG] Sending angles to robot: [90, 42.0, 42.0, 42.0, 90, 160]\n",
      "[DEBUG] Sending angles to robot: [90, 84.0, 84.0, 84.0, 90, 160]\n",
      "[DEBUG] Sending angles to robot: [90, 42.0, 42.0, 42.0, 90, 160]\n",
      "[DEBUG] Sending angles to robot: [90, 84.0, 84.0, 84.0, 90, 160]\n"
     ]
    }
   ],
   "source": [
    "pull_down()\n",
    "\n",
    "turn_around()\n",
    "sleep()\n",
    "move_forward()\n",
    "sleep()\n",
    "stop()\n",
    "sleep()\n",
    "lift_arm()\n",
    "sleep()\n",
    "pull_down()\n",
    "sleep()\n",
    "turn_around()\n",
    "sleep()\n",
    "#turn of the lamp\n",
    "\n",
    "\n",
    "\n",
    "\n",
    "lift_arm()"
   ]
  },
  {
   "cell_type": "code",
   "execution_count": 41,
   "id": "18cb55b9",
   "metadata": {},
   "outputs": [],
   "source": [
    "turn_off_the_lamp()"
   ]
  },
  {
   "cell_type": "code",
   "execution_count": 2,
   "id": "b105c1b7",
   "metadata": {},
   "outputs": [
    {
     "name": "stdout",
     "output_type": "stream",
     "text": [
      "[90, 90, 90, 90, 90, 0]\n"
     ]
    }
   ],
   "source": [
    "move_arm.arm_full_open()"
   ]
  },
  {
   "cell_type": "code",
   "execution_count": 3,
   "id": "0898dd30",
   "metadata": {},
   "outputs": [
    {
     "name": "stdout",
     "output_type": "stream",
     "text": [
      "[90, 90, 90, 90, 90, 160]\n"
     ]
    }
   ],
   "source": [
    "move_arm.arm_full_close()"
   ]
  },
  {
   "cell_type": "code",
   "execution_count": null,
   "id": "579d83b4",
   "metadata": {},
   "outputs": [],
   "source": []
  }
 ],
 "metadata": {
  "kernelspec": {
   "display_name": "Python 3",
   "language": "python",
   "name": "python3"
  },
  "language_info": {
   "codemirror_mode": {
    "name": "ipython",
    "version": 3
   },
   "file_extension": ".py",
   "mimetype": "text/x-python",
   "name": "python",
   "nbconvert_exporter": "python",
   "pygments_lexer": "ipython3",
   "version": "3.10.12"
  }
 },
 "nbformat": 4,
 "nbformat_minor": 5
}
